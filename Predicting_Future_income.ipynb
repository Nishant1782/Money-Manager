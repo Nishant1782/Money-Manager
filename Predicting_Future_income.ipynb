{
  "cells": [
    {
      "cell_type": "code",
      "execution_count": 1,
      "metadata": {
        "colab": {
          "base_uri": "https://localhost:8080/"
        },
        "id": "A2PouVelcJoJ",
        "outputId": "c581a04e-76f7-4122-a627-f3d452b7f92d"
      },
      "outputs": [
        {
          "name": "stdout",
          "output_type": "stream",
          "text": [
            "Requirement already satisfied: pystan in /usr/local/lib/python3.7/dist-packages (2.19.1.1)\n",
            "Requirement already satisfied: Cython!=0.25.1,>=0.22 in /usr/local/lib/python3.7/dist-packages (from pystan) (0.29.24)\n",
            "Requirement already satisfied: numpy>=1.7 in /usr/local/lib/python3.7/dist-packages (from pystan) (1.19.5)\n",
            "Requirement already satisfied: fbprophet in /usr/local/lib/python3.7/dist-packages (0.7.1)\n",
            "Requirement already satisfied: Cython>=0.22 in /usr/local/lib/python3.7/dist-packages (from fbprophet) (0.29.24)\n",
            "Requirement already satisfied: cmdstanpy==0.9.5 in /usr/local/lib/python3.7/dist-packages (from fbprophet) (0.9.5)\n",
            "Requirement already satisfied: pystan>=2.14 in /usr/local/lib/python3.7/dist-packages (from fbprophet) (2.19.1.1)\n",
            "Requirement already satisfied: numpy>=1.15.4 in /usr/local/lib/python3.7/dist-packages (from fbprophet) (1.19.5)\n",
            "Requirement already satisfied: pandas>=1.0.4 in /usr/local/lib/python3.7/dist-packages (from fbprophet) (1.1.5)\n",
            "Requirement already satisfied: matplotlib>=2.0.0 in /usr/local/lib/python3.7/dist-packages (from fbprophet) (3.2.2)\n",
            "Requirement already satisfied: LunarCalendar>=0.0.9 in /usr/local/lib/python3.7/dist-packages (from fbprophet) (0.0.9)\n",
            "Requirement already satisfied: convertdate>=2.1.2 in /usr/local/lib/python3.7/dist-packages (from fbprophet) (2.3.2)\n",
            "Requirement already satisfied: holidays>=0.10.2 in /usr/local/lib/python3.7/dist-packages (from fbprophet) (0.10.5.2)\n",
            "Requirement already satisfied: setuptools-git>=1.2 in /usr/local/lib/python3.7/dist-packages (from fbprophet) (1.2)\n",
            "Requirement already satisfied: python-dateutil>=2.8.0 in /usr/local/lib/python3.7/dist-packages (from fbprophet) (2.8.2)\n",
            "Requirement already satisfied: tqdm>=4.36.1 in /usr/local/lib/python3.7/dist-packages (from fbprophet) (4.62.3)\n",
            "Requirement already satisfied: pytz>=2014.10 in /usr/local/lib/python3.7/dist-packages (from convertdate>=2.1.2->fbprophet) (2018.9)\n",
            "Requirement already satisfied: pymeeus<=1,>=0.3.13 in /usr/local/lib/python3.7/dist-packages (from convertdate>=2.1.2->fbprophet) (0.5.11)\n",
            "Requirement already satisfied: hijri-converter in /usr/local/lib/python3.7/dist-packages (from holidays>=0.10.2->fbprophet) (2.2.2)\n",
            "Requirement already satisfied: six in /usr/local/lib/python3.7/dist-packages (from holidays>=0.10.2->fbprophet) (1.15.0)\n",
            "Requirement already satisfied: korean-lunar-calendar in /usr/local/lib/python3.7/dist-packages (from holidays>=0.10.2->fbprophet) (0.2.1)\n",
            "Requirement already satisfied: ephem>=3.7.5.3 in /usr/local/lib/python3.7/dist-packages (from LunarCalendar>=0.0.9->fbprophet) (4.1)\n",
            "Requirement already satisfied: pyparsing!=2.0.4,!=2.1.2,!=2.1.6,>=2.0.1 in /usr/local/lib/python3.7/dist-packages (from matplotlib>=2.0.0->fbprophet) (2.4.7)\n",
            "Requirement already satisfied: cycler>=0.10 in /usr/local/lib/python3.7/dist-packages (from matplotlib>=2.0.0->fbprophet) (0.11.0)\n",
            "Requirement already satisfied: kiwisolver>=1.0.1 in /usr/local/lib/python3.7/dist-packages (from matplotlib>=2.0.0->fbprophet) (1.3.2)\n",
            "Collecting prophet\n",
            "  Downloading prophet-1.0.1.tar.gz (65 kB)\n",
            "\u001b[K     |████████████████████████████████| 65 kB 2.9 MB/s \n",
            "\u001b[?25hRequirement already satisfied: Cython>=0.22 in /usr/local/lib/python3.7/dist-packages (from prophet) (0.29.24)\n",
            "Collecting cmdstanpy==0.9.68\n",
            "  Downloading cmdstanpy-0.9.68-py3-none-any.whl (49 kB)\n",
            "\u001b[K     |████████████████████████████████| 49 kB 4.6 MB/s \n",
            "\u001b[?25hRequirement already satisfied: pystan~=2.19.1.1 in /usr/local/lib/python3.7/dist-packages (from prophet) (2.19.1.1)\n",
            "Requirement already satisfied: numpy>=1.15.4 in /usr/local/lib/python3.7/dist-packages (from prophet) (1.19.5)\n",
            "Requirement already satisfied: pandas>=1.0.4 in /usr/local/lib/python3.7/dist-packages (from prophet) (1.1.5)\n",
            "Requirement already satisfied: matplotlib>=2.0.0 in /usr/local/lib/python3.7/dist-packages (from prophet) (3.2.2)\n",
            "Requirement already satisfied: LunarCalendar>=0.0.9 in /usr/local/lib/python3.7/dist-packages (from prophet) (0.0.9)\n",
            "Requirement already satisfied: convertdate>=2.1.2 in /usr/local/lib/python3.7/dist-packages (from prophet) (2.3.2)\n",
            "Requirement already satisfied: holidays>=0.10.2 in /usr/local/lib/python3.7/dist-packages (from prophet) (0.10.5.2)\n",
            "Requirement already satisfied: setuptools-git>=1.2 in /usr/local/lib/python3.7/dist-packages (from prophet) (1.2)\n",
            "Requirement already satisfied: python-dateutil>=2.8.0 in /usr/local/lib/python3.7/dist-packages (from prophet) (2.8.2)\n",
            "Requirement already satisfied: tqdm>=4.36.1 in /usr/local/lib/python3.7/dist-packages (from prophet) (4.62.3)\n",
            "Collecting ujson\n",
            "  Downloading ujson-4.2.0-cp37-cp37m-manylinux_2_17_x86_64.manylinux2014_x86_64.whl (214 kB)\n",
            "\u001b[K     |████████████████████████████████| 214 kB 42.0 MB/s \n",
            "\u001b[?25hRequirement already satisfied: pymeeus<=1,>=0.3.13 in /usr/local/lib/python3.7/dist-packages (from convertdate>=2.1.2->prophet) (0.5.11)\n",
            "Requirement already satisfied: pytz>=2014.10 in /usr/local/lib/python3.7/dist-packages (from convertdate>=2.1.2->prophet) (2018.9)\n",
            "Requirement already satisfied: hijri-converter in /usr/local/lib/python3.7/dist-packages (from holidays>=0.10.2->prophet) (2.2.2)\n",
            "Requirement already satisfied: six in /usr/local/lib/python3.7/dist-packages (from holidays>=0.10.2->prophet) (1.15.0)\n",
            "Requirement already satisfied: korean-lunar-calendar in /usr/local/lib/python3.7/dist-packages (from holidays>=0.10.2->prophet) (0.2.1)\n",
            "Requirement already satisfied: ephem>=3.7.5.3 in /usr/local/lib/python3.7/dist-packages (from LunarCalendar>=0.0.9->prophet) (4.1)\n",
            "Requirement already satisfied: pyparsing!=2.0.4,!=2.1.2,!=2.1.6,>=2.0.1 in /usr/local/lib/python3.7/dist-packages (from matplotlib>=2.0.0->prophet) (2.4.7)\n",
            "Requirement already satisfied: kiwisolver>=1.0.1 in /usr/local/lib/python3.7/dist-packages (from matplotlib>=2.0.0->prophet) (1.3.2)\n",
            "Requirement already satisfied: cycler>=0.10 in /usr/local/lib/python3.7/dist-packages (from matplotlib>=2.0.0->prophet) (0.11.0)\n",
            "Building wheels for collected packages: prophet\n",
            "  Building wheel for prophet (setup.py) ... \u001b[?25l\u001b[?25hdone\n",
            "  Created wheel for prophet: filename=prophet-1.0.1-py3-none-any.whl size=6640067 sha256=452da7f24b304febd1b7b94482ec07cdc19244cf529feb8b17b36a8deafbeb15\n",
            "  Stored in directory: /root/.cache/pip/wheels/4e/a0/1a/02c9ec9e3e9de6bdbb3d769d11992a6926889d71567d6b9b67\n",
            "Successfully built prophet\n",
            "Installing collected packages: ujson, cmdstanpy, prophet\n",
            "  Attempting uninstall: cmdstanpy\n",
            "    Found existing installation: cmdstanpy 0.9.5\n",
            "    Uninstalling cmdstanpy-0.9.5:\n",
            "      Successfully uninstalled cmdstanpy-0.9.5\n",
            "\u001b[31mERROR: pip's dependency resolver does not currently take into account all the packages that are installed. This behaviour is the source of the following dependency conflicts.\n",
            "fbprophet 0.7.1 requires cmdstanpy==0.9.5, but you have cmdstanpy 0.9.68 which is incompatible.\u001b[0m\n",
            "Successfully installed cmdstanpy-0.9.68 prophet-1.0.1 ujson-4.2.0\n"
          ]
        }
      ],
      "source": [
        "!pip install pystan\n",
        "!pip install fbprophet\n",
        "!pip install prophet"
      ]
    },
    {
      "cell_type": "code",
      "execution_count": 2,
      "metadata": {
        "id": "rBPF_e0gcRbE"
      },
      "outputs": [],
      "source": [
        "import pandas as pd\n",
        "from prophet import Prophet\n",
        "import matplotlib.pyplot as plt\n",
        "plt.style.use(\"fivethirtyeight\")"
      ]
    },
    {
      "cell_type": "code",
      "execution_count": 3,
      "metadata": {
        "id": "2hVnDDYJceli"
      },
      "outputs": [],
      "source": [
        "df = pd.read_csv('MoneyManager.csv')"
      ]
    },
    {
      "cell_type": "code",
      "execution_count": 4,
      "metadata": {
        "id": "p2FMyKU9ch9n"
      },
      "outputs": [],
      "source": [
        "def timestamp(x):\n",
        "    return datetime.strptime(x, \"%d-%m-%Y\")"
      ]
    },
    {
      "cell_type": "code",
      "execution_count": 5,
      "metadata": {
        "colab": {
          "base_uri": "https://localhost:8080/",
          "height": 419
        },
        "id": "lCGMgnXDcj6L",
        "outputId": "03a2a395-d9de-4086-a2ad-9eb9841a8425"
      },
      "outputs": [
        {
          "data": {
            "text/html": [
              "<div>\n",
              "<style scoped>\n",
              "    .dataframe tbody tr th:only-of-type {\n",
              "        vertical-align: middle;\n",
              "    }\n",
              "\n",
              "    .dataframe tbody tr th {\n",
              "        vertical-align: top;\n",
              "    }\n",
              "\n",
              "    .dataframe thead th {\n",
              "        text-align: right;\n",
              "    }\n",
              "</style>\n",
              "<table border=\"1\" class=\"dataframe\">\n",
              "  <thead>\n",
              "    <tr style=\"text-align: right;\">\n",
              "      <th></th>\n",
              "      <th>Sr No.</th>\n",
              "      <th>Date</th>\n",
              "      <th>Amount</th>\n",
              "      <th>Description</th>\n",
              "      <th>Category</th>\n",
              "    </tr>\n",
              "  </thead>\n",
              "  <tbody>\n",
              "    <tr>\n",
              "      <th>0</th>\n",
              "      <td>1</td>\n",
              "      <td>2021-07-01</td>\n",
              "      <td>100000</td>\n",
              "      <td>Salary</td>\n",
              "      <td>Income</td>\n",
              "    </tr>\n",
              "    <tr>\n",
              "      <th>1</th>\n",
              "      <td>2</td>\n",
              "      <td>2021-07-02</td>\n",
              "      <td>-2200</td>\n",
              "      <td>Party to friends</td>\n",
              "      <td>Social Life</td>\n",
              "    </tr>\n",
              "    <tr>\n",
              "      <th>2</th>\n",
              "      <td>3</td>\n",
              "      <td>2021-07-03</td>\n",
              "      <td>-560</td>\n",
              "      <td>Sapiens(book)</td>\n",
              "      <td>Self Development</td>\n",
              "    </tr>\n",
              "    <tr>\n",
              "      <th>3</th>\n",
              "      <td>4</td>\n",
              "      <td>2021-07-04</td>\n",
              "      <td>-10600</td>\n",
              "      <td>Facewash and other hair produts</td>\n",
              "      <td>Beauty</td>\n",
              "    </tr>\n",
              "    <tr>\n",
              "      <th>4</th>\n",
              "      <td>5</td>\n",
              "      <td>2021-07-05</td>\n",
              "      <td>-2040</td>\n",
              "      <td>household items</td>\n",
              "      <td>household</td>\n",
              "    </tr>\n",
              "    <tr>\n",
              "      <th>...</th>\n",
              "      <td>...</td>\n",
              "      <td>...</td>\n",
              "      <td>...</td>\n",
              "      <td>...</td>\n",
              "      <td>...</td>\n",
              "    </tr>\n",
              "    <tr>\n",
              "      <th>149</th>\n",
              "      <td>150</td>\n",
              "      <td>2021-12-27</td>\n",
              "      <td>-415</td>\n",
              "      <td>new utensils</td>\n",
              "      <td>Household</td>\n",
              "    </tr>\n",
              "    <tr>\n",
              "      <th>150</th>\n",
              "      <td>151</td>\n",
              "      <td>2021-12-28</td>\n",
              "      <td>-598</td>\n",
              "      <td>yoga</td>\n",
              "      <td>Self Development</td>\n",
              "    </tr>\n",
              "    <tr>\n",
              "      <th>151</th>\n",
              "      <td>152</td>\n",
              "      <td>2021-12-29</td>\n",
              "      <td>-40</td>\n",
              "      <td>chocolate</td>\n",
              "      <td>Food</td>\n",
              "    </tr>\n",
              "    <tr>\n",
              "      <th>152</th>\n",
              "      <td>153</td>\n",
              "      <td>2021-12-30</td>\n",
              "      <td>-50</td>\n",
              "      <td>pen</td>\n",
              "      <td>Other</td>\n",
              "    </tr>\n",
              "    <tr>\n",
              "      <th>153</th>\n",
              "      <td>154</td>\n",
              "      <td>2021-12-31</td>\n",
              "      <td>-200</td>\n",
              "      <td>mobile recharge</td>\n",
              "      <td>Other</td>\n",
              "    </tr>\n",
              "  </tbody>\n",
              "</table>\n",
              "<p>154 rows × 5 columns</p>\n",
              "</div>"
            ],
            "text/plain": [
              "     Sr No.       Date  ...                      Description          Category\n",
              "0         1 2021-07-01  ...                           Salary            Income\n",
              "1         2 2021-07-02  ...                 Party to friends       Social Life\n",
              "2         3 2021-07-03  ...                    Sapiens(book)  Self Development\n",
              "3         4 2021-07-04  ...  Facewash and other hair produts            Beauty\n",
              "4         5 2021-07-05  ...                  household items         household\n",
              "..      ...        ...  ...                              ...               ...\n",
              "149     150 2021-12-27  ...                     new utensils         Household\n",
              "150     151 2021-12-28  ...                             yoga  Self Development\n",
              "151     152 2021-12-29  ...                        chocolate              Food\n",
              "152     153 2021-12-30  ...                              pen             Other\n",
              "153     154 2021-12-31  ...                  mobile recharge             Other\n",
              "\n",
              "[154 rows x 5 columns]"
            ]
          },
          "execution_count": 5,
          "metadata": {},
          "output_type": "execute_result"
        }
      ],
      "source": [
        "from datetime import datetime, timedelta,date\n",
        "df['Date'] = df['Date'].apply(timestamp)\n",
        "df"
      ]
    },
    {
      "cell_type": "code",
      "execution_count": 6,
      "metadata": {
        "colab": {
          "base_uri": "https://localhost:8080/",
          "height": 419
        },
        "id": "Xht17UEXctOl",
        "outputId": "537eef60-1325-400d-eb87-2f11c2034d0f"
      },
      "outputs": [
        {
          "data": {
            "text/html": [
              "<div>\n",
              "<style scoped>\n",
              "    .dataframe tbody tr th:only-of-type {\n",
              "        vertical-align: middle;\n",
              "    }\n",
              "\n",
              "    .dataframe tbody tr th {\n",
              "        vertical-align: top;\n",
              "    }\n",
              "\n",
              "    .dataframe thead th {\n",
              "        text-align: right;\n",
              "    }\n",
              "</style>\n",
              "<table border=\"1\" class=\"dataframe\">\n",
              "  <thead>\n",
              "    <tr style=\"text-align: right;\">\n",
              "      <th></th>\n",
              "      <th>ds</th>\n",
              "      <th>y</th>\n",
              "    </tr>\n",
              "  </thead>\n",
              "  <tbody>\n",
              "    <tr>\n",
              "      <th>0</th>\n",
              "      <td>2021-07-01</td>\n",
              "      <td>100000</td>\n",
              "    </tr>\n",
              "    <tr>\n",
              "      <th>1</th>\n",
              "      <td>2021-07-02</td>\n",
              "      <td>-2200</td>\n",
              "    </tr>\n",
              "    <tr>\n",
              "      <th>2</th>\n",
              "      <td>2021-07-03</td>\n",
              "      <td>-560</td>\n",
              "    </tr>\n",
              "    <tr>\n",
              "      <th>3</th>\n",
              "      <td>2021-07-04</td>\n",
              "      <td>-10600</td>\n",
              "    </tr>\n",
              "    <tr>\n",
              "      <th>4</th>\n",
              "      <td>2021-07-05</td>\n",
              "      <td>-2040</td>\n",
              "    </tr>\n",
              "    <tr>\n",
              "      <th>...</th>\n",
              "      <td>...</td>\n",
              "      <td>...</td>\n",
              "    </tr>\n",
              "    <tr>\n",
              "      <th>149</th>\n",
              "      <td>2021-12-27</td>\n",
              "      <td>-415</td>\n",
              "    </tr>\n",
              "    <tr>\n",
              "      <th>150</th>\n",
              "      <td>2021-12-28</td>\n",
              "      <td>-598</td>\n",
              "    </tr>\n",
              "    <tr>\n",
              "      <th>151</th>\n",
              "      <td>2021-12-29</td>\n",
              "      <td>-40</td>\n",
              "    </tr>\n",
              "    <tr>\n",
              "      <th>152</th>\n",
              "      <td>2021-12-30</td>\n",
              "      <td>-50</td>\n",
              "    </tr>\n",
              "    <tr>\n",
              "      <th>153</th>\n",
              "      <td>2021-12-31</td>\n",
              "      <td>-200</td>\n",
              "    </tr>\n",
              "  </tbody>\n",
              "</table>\n",
              "<p>154 rows × 2 columns</p>\n",
              "</div>"
            ],
            "text/plain": [
              "            ds       y\n",
              "0   2021-07-01  100000\n",
              "1   2021-07-02   -2200\n",
              "2   2021-07-03    -560\n",
              "3   2021-07-04  -10600\n",
              "4   2021-07-05   -2040\n",
              "..         ...     ...\n",
              "149 2021-12-27    -415\n",
              "150 2021-12-28    -598\n",
              "151 2021-12-29     -40\n",
              "152 2021-12-30     -50\n",
              "153 2021-12-31    -200\n",
              "\n",
              "[154 rows x 2 columns]"
            ]
          },
          "execution_count": 6,
          "metadata": {},
          "output_type": "execute_result"
        }
      ],
      "source": [
        "df=df.drop(['Category', 'Description', 'Sr No.'], axis=1)\n",
        "df.columns = ['ds', 'y']\n",
        "df"
      ]
    },
    {
      "cell_type": "code",
      "execution_count": 7,
      "metadata": {
        "colab": {
          "base_uri": "https://localhost:8080/"
        },
        "id": "sZKEqYaZQkY9",
        "outputId": "5ec49dcd-3f08-46e2-fb04-d2331bb0fd3f"
      },
      "outputs": [
        {
          "data": {
            "text/plain": [
              "ds    datetime64[ns]\n",
              "y              int64\n",
              "dtype: object"
            ]
          },
          "execution_count": 7,
          "metadata": {},
          "output_type": "execute_result"
        }
      ],
      "source": [
        "df.dtypes"
      ]
    },
    {
      "cell_type": "code",
      "execution_count": 8,
      "metadata": {
        "colab": {
          "base_uri": "https://localhost:8080/",
          "height": 415
        },
        "id": "cLXp1PaLQsS-",
        "outputId": "da32f997-7922-41a0-990f-950b9fff44f2"
      },
      "outputs": [
        {
          "data": {
            "text/plain": [
              "<matplotlib.legend.Legend at 0x7f306a5cb6d0>"
            ]
          },
          "execution_count": 8,
          "metadata": {},
          "output_type": "execute_result"
        },
        {
          "data": {
            "image/png": "[encoded data removed]",
            "text/plain": [
              "<Figure size 720x432 with 1 Axes>"
            ]
          },
          "metadata": {},
          "output_type": "display_data"
        }
      ],
      "source": [
        "\n",
        "plt.figure(figsize=(10,6))\n",
        "plt.plot(df.set_index('ds'))\n",
        "plt.legend(['y'])"
      ]
    },
    {
      "cell_type": "code",
      "execution_count": 9,
      "metadata": {
        "colab": {
          "base_uri": "https://localhost:8080/",
          "height": 204
        },
        "id": "P-LzabX83IDH",
        "outputId": "a4182950-b320-4106-fbea-c154f987b31e"
      },
      "outputs": [
        {
          "data": {
            "text/html": [
              "<div>\n",
              "<style scoped>\n",
              "    .dataframe tbody tr th:only-of-type {\n",
              "        vertical-align: middle;\n",
              "    }\n",
              "\n",
              "    .dataframe tbody tr th {\n",
              "        vertical-align: top;\n",
              "    }\n",
              "\n",
              "    .dataframe thead th {\n",
              "        text-align: right;\n",
              "    }\n",
              "</style>\n",
              "<table border=\"1\" class=\"dataframe\">\n",
              "  <thead>\n",
              "    <tr style=\"text-align: right;\">\n",
              "      <th></th>\n",
              "      <th>ds</th>\n",
              "      <th>y</th>\n",
              "    </tr>\n",
              "  </thead>\n",
              "  <tbody>\n",
              "    <tr>\n",
              "      <th>0</th>\n",
              "      <td>2021-07-01</td>\n",
              "      <td>4.719584</td>\n",
              "    </tr>\n",
              "    <tr>\n",
              "      <th>1</th>\n",
              "      <td>2021-07-02</td>\n",
              "      <td>-0.239400</td>\n",
              "    </tr>\n",
              "    <tr>\n",
              "      <th>2</th>\n",
              "      <td>2021-07-03</td>\n",
              "      <td>-0.159824</td>\n",
              "    </tr>\n",
              "    <tr>\n",
              "      <th>3</th>\n",
              "      <td>2021-07-04</td>\n",
              "      <td>-0.646988</td>\n",
              "    </tr>\n",
              "    <tr>\n",
              "      <th>4</th>\n",
              "      <td>2021-07-05</td>\n",
              "      <td>-0.231637</td>\n",
              "    </tr>\n",
              "  </tbody>\n",
              "</table>\n",
              "</div>"
            ],
            "text/plain": [
              "          ds         y\n",
              "0 2021-07-01  4.719584\n",
              "1 2021-07-02 -0.239400\n",
              "2 2021-07-03 -0.159824\n",
              "3 2021-07-04 -0.646988\n",
              "4 2021-07-05 -0.231637"
            ]
          },
          "execution_count": 9,
          "metadata": {},
          "output_type": "execute_result"
        }
      ],
      "source": [
        "#from sklearn.preprocessing import MinMaxScaler\n",
        "#from sklearn.preprocessing import StandardScaler\n",
        "import numpy as np\n",
        "#data=df['y']\n",
        "mean = df['y'].mean(axis=0)\n",
        "df['y'] -= mean\n",
        "std = df['y'].std(axis=0)\n",
        "df['y'] /= std\n",
        "#df = df['y'].values\n",
        "#df = df.astype('float32')\n",
        "#scaler = MinMaxScaler(feature_range=(0, 1))\n",
        "#scaler = StandardScaler()\n",
        "#df_l = scaler.fit_transform(data)\n",
        "df.head()"
      ]
    },
    {
      "cell_type": "code",
      "execution_count": 10,
      "metadata": {
        "colab": {
          "base_uri": "https://localhost:8080/",
          "height": 415
        },
        "id": "tWFzryDVRLJe",
        "outputId": "7605247a-791a-41ad-99a0-a7dd2471e7a2"
      },
      "outputs": [
        {
          "data": {
            "text/plain": [
              "<matplotlib.legend.Legend at 0x7f30695e5050>"
            ]
          },
          "execution_count": 10,
          "metadata": {},
          "output_type": "execute_result"
        },
        {
          "data": {
            "image/png": "[encoded data removed]",
            "text/plain": [
              "<Figure size 720x432 with 1 Axes>"
            ]
          },
          "metadata": {},
          "output_type": "display_data"
        }
      ],
      "source": [
        "import numpy as np\n",
        "#df['y'] = np.log(df['y'])\n",
        "plt.figure(figsize=(10,6))\n",
        "plt.plot(df.set_index('ds'))\n",
        "plt.legend(['y'])"
      ]
    },
    {
      "cell_type": "code",
      "execution_count": 13,
      "metadata": {
        "colab": {
          "base_uri": "https://localhost:8080/"
        },
        "id": "2FZifyPzpMaZ",
        "outputId": "718ad6d1-6101-4a14-84d6-02916f031f57"
      },
      "outputs": [
        {
          "name": "stderr",
          "output_type": "stream",
          "text": [
            "INFO:fbprophet:Disabling yearly seasonality. Run prophet with yearly_seasonality=True to override this.\n"
          ]
        },
        {
          "data": {
            "text/plain": [
              "<fbprophet.forecaster.Prophet at 0x7f306956aa90>"
            ]
          },
          "execution_count": 13,
          "metadata": {},
          "output_type": "execute_result"
        }
      ],
      "source": [
        "from fbprophet import Prophet\n",
        "m=Prophet(daily_seasonality=True)\n",
        "m.fit(df)"
      ]
    },
    {
      "cell_type": "code",
      "execution_count": 14,
      "metadata": {
        "colab": {
          "base_uri": "https://localhost:8080/"
        },
        "id": "OhHJ8dr4kYXy",
        "outputId": "09600506-6154-49f9-e8cb-c19f738081be"
      },
      "outputs": [
        {
          "data": {
            "text/plain": [
              "{'additive': ['weekly',\n",
              "  'daily',\n",
              "  'additive_terms',\n",
              "  'extra_regressors_additive',\n",
              "  'holidays'],\n",
              " 'multiplicative': ['multiplicative_terms', 'extra_regressors_multiplicative']}"
            ]
          },
          "execution_count": 14,
          "metadata": {},
          "output_type": "execute_result"
        }
      ],
      "source": [
        "m.component_modes"
      ]
    },
    {
      "cell_type": "code",
      "execution_count": 15,
      "metadata": {
        "id": "lO0kDWvskvZj"
      },
      "outputs": [],
      "source": [
        "future_dates = m.make_future_dataframe(periods=31)"
      ]
    },
    {
      "cell_type": "code",
      "execution_count": 16,
      "metadata": {
        "colab": {
          "base_uri": "https://localhost:8080/",
          "height": 419
        },
        "id": "PDz1Tkzvk8wl",
        "outputId": "c71604d2-5877-46e7-bc77-55927368e02e"
      },
      "outputs": [
        {
          "data": {
            "text/html": [
              "<div>\n",
              "<style scoped>\n",
              "    .dataframe tbody tr th:only-of-type {\n",
              "        vertical-align: middle;\n",
              "    }\n",
              "\n",
              "    .dataframe tbody tr th {\n",
              "        vertical-align: top;\n",
              "    }\n",
              "\n",
              "    .dataframe thead th {\n",
              "        text-align: right;\n",
              "    }\n",
              "</style>\n",
              "<table border=\"1\" class=\"dataframe\">\n",
              "  <thead>\n",
              "    <tr style=\"text-align: right;\">\n",
              "      <th></th>\n",
              "      <th>ds</th>\n",
              "    </tr>\n",
              "  </thead>\n",
              "  <tbody>\n",
              "    <tr>\n",
              "      <th>0</th>\n",
              "      <td>2021-07-01</td>\n",
              "    </tr>\n",
              "    <tr>\n",
              "      <th>1</th>\n",
              "      <td>2021-07-02</td>\n",
              "    </tr>\n",
              "    <tr>\n",
              "      <th>2</th>\n",
              "      <td>2021-07-03</td>\n",
              "    </tr>\n",
              "    <tr>\n",
              "      <th>3</th>\n",
              "      <td>2021-07-04</td>\n",
              "    </tr>\n",
              "    <tr>\n",
              "      <th>4</th>\n",
              "      <td>2021-07-05</td>\n",
              "    </tr>\n",
              "    <tr>\n",
              "      <th>...</th>\n",
              "      <td>...</td>\n",
              "    </tr>\n",
              "    <tr>\n",
              "      <th>177</th>\n",
              "      <td>2022-01-27</td>\n",
              "    </tr>\n",
              "    <tr>\n",
              "      <th>178</th>\n",
              "      <td>2022-01-28</td>\n",
              "    </tr>\n",
              "    <tr>\n",
              "      <th>179</th>\n",
              "      <td>2022-01-29</td>\n",
              "    </tr>\n",
              "    <tr>\n",
              "      <th>180</th>\n",
              "      <td>2022-01-30</td>\n",
              "    </tr>\n",
              "    <tr>\n",
              "      <th>181</th>\n",
              "      <td>2022-01-31</td>\n",
              "    </tr>\n",
              "  </tbody>\n",
              "</table>\n",
              "<p>182 rows × 1 columns</p>\n",
              "</div>"
            ],
            "text/plain": [
              "            ds\n",
              "0   2021-07-01\n",
              "1   2021-07-02\n",
              "2   2021-07-03\n",
              "3   2021-07-04\n",
              "4   2021-07-05\n",
              "..         ...\n",
              "177 2022-01-27\n",
              "178 2022-01-28\n",
              "179 2022-01-29\n",
              "180 2022-01-30\n",
              "181 2022-01-31\n",
              "\n",
              "[182 rows x 1 columns]"
            ]
          },
          "execution_count": 16,
          "metadata": {},
          "output_type": "execute_result"
        }
      ],
      "source": [
        "future_dates"
      ]
    },
    {
      "cell_type": "code",
      "execution_count": 17,
      "metadata": {
        "colab": {
          "base_uri": "https://localhost:8080/",
          "height": 638
        },
        "id": "kJ0rNAkQlGhw",
        "outputId": "b36cbf2d-6da0-40dc-be80-38ae0d039908"
      },
      "outputs": [
        {
          "data": {
            "text/html": [
              "<div>\n",
              "<style scoped>\n",
              "    .dataframe tbody tr th:only-of-type {\n",
              "        vertical-align: middle;\n",
              "    }\n",
              "\n",
              "    .dataframe tbody tr th {\n",
              "        vertical-align: top;\n",
              "    }\n",
              "\n",
              "    .dataframe thead th {\n",
              "        text-align: right;\n",
              "    }\n",
              "</style>\n",
              "<table border=\"1\" class=\"dataframe\">\n",
              "  <thead>\n",
              "    <tr style=\"text-align: right;\">\n",
              "      <th></th>\n",
              "      <th>177</th>\n",
              "      <th>178</th>\n",
              "      <th>179</th>\n",
              "      <th>180</th>\n",
              "      <th>181</th>\n",
              "    </tr>\n",
              "  </thead>\n",
              "  <tbody>\n",
              "    <tr>\n",
              "      <th>ds</th>\n",
              "      <td>2022-01-27 00:00:00</td>\n",
              "      <td>2022-01-28 00:00:00</td>\n",
              "      <td>2022-01-29 00:00:00</td>\n",
              "      <td>2022-01-30 00:00:00</td>\n",
              "      <td>2022-01-31 00:00:00</td>\n",
              "    </tr>\n",
              "    <tr>\n",
              "      <th>trend</th>\n",
              "      <td>3.58354</td>\n",
              "      <td>3.58259</td>\n",
              "      <td>3.58163</td>\n",
              "      <td>3.58068</td>\n",
              "      <td>3.57972</td>\n",
              "    </tr>\n",
              "    <tr>\n",
              "      <th>yhat_lower</th>\n",
              "      <td>-1.39347</td>\n",
              "      <td>-1.36126</td>\n",
              "      <td>-1.62794</td>\n",
              "      <td>-1.44482</td>\n",
              "      <td>-1.38889</td>\n",
              "    </tr>\n",
              "    <tr>\n",
              "      <th>yhat_upper</th>\n",
              "      <td>1.09925</td>\n",
              "      <td>1.18652</td>\n",
              "      <td>0.890446</td>\n",
              "      <td>1.22862</td>\n",
              "      <td>1.26729</td>\n",
              "    </tr>\n",
              "    <tr>\n",
              "      <th>trend_lower</th>\n",
              "      <td>3.58348</td>\n",
              "      <td>3.58252</td>\n",
              "      <td>3.58157</td>\n",
              "      <td>3.58061</td>\n",
              "      <td>3.57965</td>\n",
              "    </tr>\n",
              "    <tr>\n",
              "      <th>trend_upper</th>\n",
              "      <td>3.5836</td>\n",
              "      <td>3.58265</td>\n",
              "      <td>3.5817</td>\n",
              "      <td>3.58075</td>\n",
              "      <td>3.5798</td>\n",
              "    </tr>\n",
              "    <tr>\n",
              "      <th>additive_terms</th>\n",
              "      <td>-3.68166</td>\n",
              "      <td>-3.67242</td>\n",
              "      <td>-3.92391</td>\n",
              "      <td>-3.65418</td>\n",
              "      <td>-3.64615</td>\n",
              "    </tr>\n",
              "    <tr>\n",
              "      <th>additive_terms_lower</th>\n",
              "      <td>-3.68166</td>\n",
              "      <td>-3.67242</td>\n",
              "      <td>-3.92391</td>\n",
              "      <td>-3.65418</td>\n",
              "      <td>-3.64615</td>\n",
              "    </tr>\n",
              "    <tr>\n",
              "      <th>additive_terms_upper</th>\n",
              "      <td>-3.68166</td>\n",
              "      <td>-3.67242</td>\n",
              "      <td>-3.92391</td>\n",
              "      <td>-3.65418</td>\n",
              "      <td>-3.64615</td>\n",
              "    </tr>\n",
              "    <tr>\n",
              "      <th>daily</th>\n",
              "      <td>-3.69826</td>\n",
              "      <td>-3.69826</td>\n",
              "      <td>-3.69826</td>\n",
              "      <td>-3.69826</td>\n",
              "      <td>-3.69826</td>\n",
              "    </tr>\n",
              "    <tr>\n",
              "      <th>daily_lower</th>\n",
              "      <td>-3.69826</td>\n",
              "      <td>-3.69826</td>\n",
              "      <td>-3.69826</td>\n",
              "      <td>-3.69826</td>\n",
              "      <td>-3.69826</td>\n",
              "    </tr>\n",
              "    <tr>\n",
              "      <th>daily_upper</th>\n",
              "      <td>-3.69826</td>\n",
              "      <td>-3.69826</td>\n",
              "      <td>-3.69826</td>\n",
              "      <td>-3.69826</td>\n",
              "      <td>-3.69826</td>\n",
              "    </tr>\n",
              "    <tr>\n",
              "      <th>weekly</th>\n",
              "      <td>0.0166002</td>\n",
              "      <td>0.0258443</td>\n",
              "      <td>-0.225647</td>\n",
              "      <td>0.0440805</td>\n",
              "      <td>0.0521085</td>\n",
              "    </tr>\n",
              "    <tr>\n",
              "      <th>weekly_lower</th>\n",
              "      <td>0.0166002</td>\n",
              "      <td>0.0258443</td>\n",
              "      <td>-0.225647</td>\n",
              "      <td>0.0440805</td>\n",
              "      <td>0.0521085</td>\n",
              "    </tr>\n",
              "    <tr>\n",
              "      <th>weekly_upper</th>\n",
              "      <td>0.0166002</td>\n",
              "      <td>0.0258443</td>\n",
              "      <td>-0.225647</td>\n",
              "      <td>0.0440805</td>\n",
              "      <td>0.0521085</td>\n",
              "    </tr>\n",
              "    <tr>\n",
              "      <th>multiplicative_terms</th>\n",
              "      <td>0</td>\n",
              "      <td>0</td>\n",
              "      <td>0</td>\n",
              "      <td>0</td>\n",
              "      <td>0</td>\n",
              "    </tr>\n",
              "    <tr>\n",
              "      <th>multiplicative_terms_lower</th>\n",
              "      <td>0</td>\n",
              "      <td>0</td>\n",
              "      <td>0</td>\n",
              "      <td>0</td>\n",
              "      <td>0</td>\n",
              "    </tr>\n",
              "    <tr>\n",
              "      <th>multiplicative_terms_upper</th>\n",
              "      <td>0</td>\n",
              "      <td>0</td>\n",
              "      <td>0</td>\n",
              "      <td>0</td>\n",
              "      <td>0</td>\n",
              "    </tr>\n",
              "    <tr>\n",
              "      <th>yhat</th>\n",
              "      <td>-0.0981214</td>\n",
              "      <td>-0.0898319</td>\n",
              "      <td>-0.342278</td>\n",
              "      <td>-0.0735049</td>\n",
              "      <td>-0.0664315</td>\n",
              "    </tr>\n",
              "  </tbody>\n",
              "</table>\n",
              "</div>"
            ],
            "text/plain": [
              "                                            177  ...                  181\n",
              "ds                          2022-01-27 00:00:00  ...  2022-01-31 00:00:00\n",
              "trend                                   3.58354  ...              3.57972\n",
              "yhat_lower                             -1.39347  ...             -1.38889\n",
              "yhat_upper                              1.09925  ...              1.26729\n",
              "trend_lower                             3.58348  ...              3.57965\n",
              "trend_upper                              3.5836  ...               3.5798\n",
              "additive_terms                         -3.68166  ...             -3.64615\n",
              "additive_terms_lower                   -3.68166  ...             -3.64615\n",
              "additive_terms_upper                   -3.68166  ...             -3.64615\n",
              "daily                                  -3.69826  ...             -3.69826\n",
              "daily_lower                            -3.69826  ...             -3.69826\n",
              "daily_upper                            -3.69826  ...             -3.69826\n",
              "weekly                                0.0166002  ...            0.0521085\n",
              "weekly_lower                          0.0166002  ...            0.0521085\n",
              "weekly_upper                          0.0166002  ...            0.0521085\n",
              "multiplicative_terms                          0  ...                    0\n",
              "multiplicative_terms_lower                    0  ...                    0\n",
              "multiplicative_terms_upper                    0  ...                    0\n",
              "yhat                                 -0.0981214  ...           -0.0664315\n",
              "\n",
              "[19 rows x 5 columns]"
            ]
          },
          "execution_count": 17,
          "metadata": {},
          "output_type": "execute_result"
        }
      ],
      "source": [
        "prediction = m.predict(future_dates)\n",
        "prediction.tail().T"
      ]
    },
    {
      "cell_type": "code",
      "execution_count": 18,
      "metadata": {
        "colab": {
          "base_uri": "https://localhost:8080/",
          "height": 204
        },
        "id": "-4VVq6ajScQD",
        "outputId": "dc657b41-7423-4a36-b349-63de0e9d4308"
      },
      "outputs": [
        {
          "data": {
            "text/html": [
              "<div>\n",
              "<style scoped>\n",
              "    .dataframe tbody tr th:only-of-type {\n",
              "        vertical-align: middle;\n",
              "    }\n",
              "\n",
              "    .dataframe tbody tr th {\n",
              "        vertical-align: top;\n",
              "    }\n",
              "\n",
              "    .dataframe thead th {\n",
              "        text-align: right;\n",
              "    }\n",
              "</style>\n",
              "<table border=\"1\" class=\"dataframe\">\n",
              "  <thead>\n",
              "    <tr style=\"text-align: right;\">\n",
              "      <th></th>\n",
              "      <th>ds</th>\n",
              "      <th>yhat</th>\n",
              "      <th>yhat_lower</th>\n",
              "      <th>yhat_upper</th>\n",
              "    </tr>\n",
              "  </thead>\n",
              "  <tbody>\n",
              "    <tr>\n",
              "      <th>177</th>\n",
              "      <td>2022-01-27</td>\n",
              "      <td>-0.098121</td>\n",
              "      <td>-1.393468</td>\n",
              "      <td>1.099254</td>\n",
              "    </tr>\n",
              "    <tr>\n",
              "      <th>178</th>\n",
              "      <td>2022-01-28</td>\n",
              "      <td>-0.089832</td>\n",
              "      <td>-1.361259</td>\n",
              "      <td>1.186521</td>\n",
              "    </tr>\n",
              "    <tr>\n",
              "      <th>179</th>\n",
              "      <td>2022-01-29</td>\n",
              "      <td>-0.342278</td>\n",
              "      <td>-1.627938</td>\n",
              "      <td>0.890446</td>\n",
              "    </tr>\n",
              "    <tr>\n",
              "      <th>180</th>\n",
              "      <td>2022-01-30</td>\n",
              "      <td>-0.073505</td>\n",
              "      <td>-1.444816</td>\n",
              "      <td>1.228621</td>\n",
              "    </tr>\n",
              "    <tr>\n",
              "      <th>181</th>\n",
              "      <td>2022-01-31</td>\n",
              "      <td>-0.066431</td>\n",
              "      <td>-1.388893</td>\n",
              "      <td>1.267290</td>\n",
              "    </tr>\n",
              "  </tbody>\n",
              "</table>\n",
              "</div>"
            ],
            "text/plain": [
              "            ds      yhat  yhat_lower  yhat_upper\n",
              "177 2022-01-27 -0.098121   -1.393468    1.099254\n",
              "178 2022-01-28 -0.089832   -1.361259    1.186521\n",
              "179 2022-01-29 -0.342278   -1.627938    0.890446\n",
              "180 2022-01-30 -0.073505   -1.444816    1.228621\n",
              "181 2022-01-31 -0.066431   -1.388893    1.267290"
            ]
          },
          "execution_count": 18,
          "metadata": {},
          "output_type": "execute_result"
        }
      ],
      "source": [
        "prediction[['ds', 'yhat', 'yhat_lower', 'yhat_upper']].tail()"
      ]
    },
    {
      "cell_type": "code",
      "execution_count": 19,
      "metadata": {
        "colab": {
          "base_uri": "https://localhost:8080/",
          "height": 204
        },
        "id": "RE_gyhCJStjG",
        "outputId": "236586d8-f425-4b97-c0c0-e08b8d71505e"
      },
      "outputs": [
        {
          "data": {
            "text/html": [
              "<div>\n",
              "<style scoped>\n",
              "    .dataframe tbody tr th:only-of-type {\n",
              "        vertical-align: middle;\n",
              "    }\n",
              "\n",
              "    .dataframe tbody tr th {\n",
              "        vertical-align: top;\n",
              "    }\n",
              "\n",
              "    .dataframe thead th {\n",
              "        text-align: right;\n",
              "    }\n",
              "</style>\n",
              "<table border=\"1\" class=\"dataframe\">\n",
              "  <thead>\n",
              "    <tr style=\"text-align: right;\">\n",
              "      <th></th>\n",
              "      <th>yhat</th>\n",
              "      <th>yhat_lower</th>\n",
              "      <th>yhat_upper</th>\n",
              "    </tr>\n",
              "  </thead>\n",
              "  <tbody>\n",
              "    <tr>\n",
              "      <th>177</th>\n",
              "      <td>0.906539</td>\n",
              "      <td>0.248213</td>\n",
              "      <td>3.001924</td>\n",
              "    </tr>\n",
              "    <tr>\n",
              "      <th>178</th>\n",
              "      <td>0.914085</td>\n",
              "      <td>0.256338</td>\n",
              "      <td>3.275664</td>\n",
              "    </tr>\n",
              "    <tr>\n",
              "      <th>179</th>\n",
              "      <td>0.710151</td>\n",
              "      <td>0.196334</td>\n",
              "      <td>2.436215</td>\n",
              "    </tr>\n",
              "    <tr>\n",
              "      <th>180</th>\n",
              "      <td>0.929132</td>\n",
              "      <td>0.235790</td>\n",
              "      <td>3.416514</td>\n",
              "    </tr>\n",
              "    <tr>\n",
              "      <th>181</th>\n",
              "      <td>0.935727</td>\n",
              "      <td>0.249351</td>\n",
              "      <td>3.551217</td>\n",
              "    </tr>\n",
              "  </tbody>\n",
              "</table>\n",
              "</div>"
            ],
            "text/plain": [
              "         yhat  yhat_lower  yhat_upper\n",
              "177  0.906539    0.248213    3.001924\n",
              "178  0.914085    0.256338    3.275664\n",
              "179  0.710151    0.196334    2.436215\n",
              "180  0.929132    0.235790    3.416514\n",
              "181  0.935727    0.249351    3.551217"
            ]
          },
          "execution_count": 19,
          "metadata": {},
          "output_type": "execute_result"
        }
      ],
      "source": [
        "np.exp(prediction[['yhat', 'yhat_lower', 'yhat_upper']].tail())"
      ]
    },
    {
      "cell_type": "code",
      "execution_count": 20,
      "metadata": {
        "colab": {
          "base_uri": "https://localhost:8080/",
          "height": 849
        },
        "id": "v0E2RxdnldPC",
        "outputId": "f0d9804c-a929-40e3-c469-c388f4b70f6f"
      },
      "outputs": [
        {
          "data": {
            "image/png": "[encoded data removed]",
            "text/plain": [
              "<Figure size 720x432 with 1 Axes>"
            ]
          },
          "execution_count": 20,
          "metadata": {},
          "output_type": "execute_result"
        },
        {
          "data": {
            "image/png": "[encoded data removed]",
            "text/plain": [
              "<Figure size 720x432 with 1 Axes>"
            ]
          },
          "metadata": {},
          "output_type": "display_data"
        }
      ],
      "source": [
        "m.plot(prediction)"
      ]
    },
    {
      "cell_type": "code",
      "execution_count": 21,
      "metadata": {
        "colab": {
          "base_uri": "https://localhost:8080/",
          "height": 253,
          "referenced_widgets": [
            "a7e2abae35dd48008c3623bc7a6e685f",
            "05f40f18dd3640cf8531e5039d39b822",
            "17c92a11a8024bcfacbff8d6e78d34fb",
            "20b0a44d3e2d477aa647cc10ad76f9d7",
            "b71db7fdd99c43e78cb6f57b139ae786",
            "25602fddd3ee4fb0a71240daccfa5f11",
            "dde62dbe190940a496010d85ed1798f0",
            "8783a74d36a24e4383d6b08a0ede111b",
            "a82c7476362f4ea3b21d9d81c1d68fe5",
            "eb16a9c7a84d4f86b5d139c7f383f16a",
            "ab46753c2c9643cdad563df8f8c202ca"
          ]
        },
        "id": "u36Zf7NClqao",
        "outputId": "9934fe48-62e0-411f-8b8e-733f7ed212f8"
      },
      "outputs": [
        {
          "name": "stderr",
          "output_type": "stream",
          "text": [
            "INFO:fbprophet:Making 3 forecasts with cutoffs between 2021-11-04 00:00:00 and 2021-11-30 00:00:00\n"
          ]
        },
        {
          "data": {
            "application/vnd.jupyter.widget-view+json": {
              "model_id": "a7e2abae35dd48008c3623bc7a6e685f",
              "version_major": 2,
              "version_minor": 0
            },
            "text/plain": [
              "  0%|          | 0/3 [00:00<?, ?it/s]"
            ]
          },
          "metadata": {},
          "output_type": "display_data"
        },
        {
          "data": {
            "text/html": [
              "<div>\n",
              "<style scoped>\n",
              "    .dataframe tbody tr th:only-of-type {\n",
              "        vertical-align: middle;\n",
              "    }\n",
              "\n",
              "    .dataframe tbody tr th {\n",
              "        vertical-align: top;\n",
              "    }\n",
              "\n",
              "    .dataframe thead th {\n",
              "        text-align: right;\n",
              "    }\n",
              "</style>\n",
              "<table border=\"1\" class=\"dataframe\">\n",
              "  <thead>\n",
              "    <tr style=\"text-align: right;\">\n",
              "      <th></th>\n",
              "      <th>ds</th>\n",
              "      <th>yhat</th>\n",
              "      <th>yhat_lower</th>\n",
              "      <th>yhat_upper</th>\n",
              "      <th>y</th>\n",
              "      <th>cutoff</th>\n",
              "    </tr>\n",
              "  </thead>\n",
              "  <tbody>\n",
              "    <tr>\n",
              "      <th>0</th>\n",
              "      <td>2021-11-05</td>\n",
              "      <td>0.272639</td>\n",
              "      <td>-1.184313</td>\n",
              "      <td>1.611902</td>\n",
              "      <td>-0.251337</td>\n",
              "      <td>2021-11-04</td>\n",
              "    </tr>\n",
              "    <tr>\n",
              "      <th>1</th>\n",
              "      <td>2021-11-06</td>\n",
              "      <td>-0.079510</td>\n",
              "      <td>-1.531764</td>\n",
              "      <td>1.266488</td>\n",
              "      <td>-0.695511</td>\n",
              "      <td>2021-11-04</td>\n",
              "    </tr>\n",
              "    <tr>\n",
              "      <th>2</th>\n",
              "      <td>2021-11-07</td>\n",
              "      <td>0.318588</td>\n",
              "      <td>-1.146760</td>\n",
              "      <td>1.802299</td>\n",
              "      <td>-0.110574</td>\n",
              "      <td>2021-11-04</td>\n",
              "    </tr>\n",
              "    <tr>\n",
              "      <th>3</th>\n",
              "      <td>2021-11-08</td>\n",
              "      <td>0.296613</td>\n",
              "      <td>-1.227776</td>\n",
              "      <td>1.627742</td>\n",
              "      <td>-0.081509</td>\n",
              "      <td>2021-11-04</td>\n",
              "    </tr>\n",
              "    <tr>\n",
              "      <th>4</th>\n",
              "      <td>2021-11-09</td>\n",
              "      <td>-0.089668</td>\n",
              "      <td>-1.554410</td>\n",
              "      <td>1.256114</td>\n",
              "      <td>-0.184085</td>\n",
              "      <td>2021-11-04</td>\n",
              "    </tr>\n",
              "  </tbody>\n",
              "</table>\n",
              "</div>"
            ],
            "text/plain": [
              "          ds      yhat  yhat_lower  yhat_upper         y     cutoff\n",
              "0 2021-11-05  0.272639   -1.184313    1.611902 -0.251337 2021-11-04\n",
              "1 2021-11-06 -0.079510   -1.531764    1.266488 -0.695511 2021-11-04\n",
              "2 2021-11-07  0.318588   -1.146760    1.802299 -0.110574 2021-11-04\n",
              "3 2021-11-08  0.296613   -1.227776    1.627742 -0.081509 2021-11-04\n",
              "4 2021-11-09 -0.089668   -1.554410    1.256114 -0.184085 2021-11-04"
            ]
          },
          "execution_count": 21,
          "metadata": {},
          "output_type": "execute_result"
        }
      ],
      "source": [
        "from fbprophet.diagnostics import cross_validation\n",
        "df_cv = cross_validation(m, initial='123 days', period ='13 days', horizon='31 days')\n",
        "df_cv.head()"
      ]
    },
    {
      "cell_type": "code",
      "execution_count": null,
      "metadata": {
        "id": "4sUrLBftfhI2"
      },
      "outputs": [],
      "source": []
    }
  ],
  "metadata": {
    "colab": {
      "collapsed_sections": [],
      "name": "FB2.ipynb",
      "provenance": []
    },
    "kernelspec": {
      "display_name": "Python 3",
      "name": "python3"
    },
    "language_info": {
      "name": "python"
    },
    "widgets": {
      "application/vnd.jupyter.widget-state+json": {
        "05f40f18dd3640cf8531e5039d39b822": {
          "model_module": "@jupyter-widgets/base",
          "model_module_version": "1.2.0",
          "model_name": "LayoutModel",
          "state": {
            "_model_module": "@jupyter-widgets/base",
            "_model_module_version": "1.2.0",
            "_model_name": "LayoutModel",
            "_view_count": null,
            "_view_module": "@jupyter-widgets/base",
            "_view_module_version": "1.2.0",
            "_view_name": "LayoutView",
            "align_content": null,
            "align_items": null,
            "align_self": null,
            "border": null,
            "bottom": null,
            "display": null,
            "flex": null,
            "flex_flow": null,
            "grid_area": null,
            "grid_auto_columns": null,
            "grid_auto_flow": null,
            "grid_auto_rows": null,
            "grid_column": null,
            "grid_gap": null,
            "grid_row": null,
            "grid_template_areas": null,
            "grid_template_columns": null,
            "grid_template_rows": null,
            "height": null,
            "justify_content": null,
            "justify_items": null,
            "left": null,
            "margin": null,
            "max_height": null,
            "max_width": null,
            "min_height": null,
            "min_width": null,
            "object_fit": null,
            "object_position": null,
            "order": null,
            "overflow": null,
            "overflow_x": null,
            "overflow_y": null,
            "padding": null,
            "right": null,
            "top": null,
            "visibility": null,
            "width": null
          }
        },
        "17c92a11a8024bcfacbff8d6e78d34fb": {
          "model_module": "@jupyter-widgets/controls",
          "model_module_version": "1.5.0",
          "model_name": "HTMLModel",
          "state": {
            "_dom_classes": [],
            "_model_module": "@jupyter-widgets/controls",
            "_model_module_version": "1.5.0",
            "_model_name": "HTMLModel",
            "_view_count": null,
            "_view_module": "@jupyter-widgets/controls",
            "_view_module_version": "1.5.0",
            "_view_name": "HTMLView",
            "description": "",
            "description_tooltip": null,
            "layout": "IPY_MODEL_dde62dbe190940a496010d85ed1798f0",
            "placeholder": "​",
            "style": "IPY_MODEL_25602fddd3ee4fb0a71240daccfa5f11",
            "value": "100%"
          }
        },
        "20b0a44d3e2d477aa647cc10ad76f9d7": {
          "model_module": "@jupyter-widgets/controls",
          "model_module_version": "1.5.0",
          "model_name": "FloatProgressModel",
          "state": {
            "_dom_classes": [],
            "_model_module": "@jupyter-widgets/controls",
            "_model_module_version": "1.5.0",
            "_model_name": "FloatProgressModel",
            "_view_count": null,
            "_view_module": "@jupyter-widgets/controls",
            "_view_module_version": "1.5.0",
            "_view_name": "ProgressView",
            "bar_style": "success",
            "description": "",
            "description_tooltip": null,
            "layout": "IPY_MODEL_a82c7476362f4ea3b21d9d81c1d68fe5",
            "max": 3,
            "min": 0,
            "orientation": "horizontal",
            "style": "IPY_MODEL_8783a74d36a24e4383d6b08a0ede111b",
            "value": 3
          }
        },
        "25602fddd3ee4fb0a71240daccfa5f11": {
          "model_module": "@jupyter-widgets/controls",
          "model_module_version": "1.5.0",
          "model_name": "DescriptionStyleModel",
          "state": {
            "_model_module": "@jupyter-widgets/controls",
            "_model_module_version": "1.5.0",
            "_model_name": "DescriptionStyleModel",
            "_view_count": null,
            "_view_module": "@jupyter-widgets/base",
            "_view_module_version": "1.2.0",
            "_view_name": "StyleView",
            "description_width": ""
          }
        },
        "8783a74d36a24e4383d6b08a0ede111b": {
          "model_module": "@jupyter-widgets/controls",
          "model_module_version": "1.5.0",
          "model_name": "ProgressStyleModel",
          "state": {
            "_model_module": "@jupyter-widgets/controls",
            "_model_module_version": "1.5.0",
            "_model_name": "ProgressStyleModel",
            "_view_count": null,
            "_view_module": "@jupyter-widgets/base",
            "_view_module_version": "1.2.0",
            "_view_name": "StyleView",
            "bar_color": null,
            "description_width": ""
          }
        },
        "a7e2abae35dd48008c3623bc7a6e685f": {
          "model_module": "@jupyter-widgets/controls",
          "model_module_version": "1.5.0",
          "model_name": "HBoxModel",
          "state": {
            "_dom_classes": [],
            "_model_module": "@jupyter-widgets/controls",
            "_model_module_version": "1.5.0",
            "_model_name": "HBoxModel",
            "_view_count": null,
            "_view_module": "@jupyter-widgets/controls",
            "_view_module_version": "1.5.0",
            "_view_name": "HBoxView",
            "box_style": "",
            "children": [
              "IPY_MODEL_17c92a11a8024bcfacbff8d6e78d34fb",
              "IPY_MODEL_20b0a44d3e2d477aa647cc10ad76f9d7",
              "IPY_MODEL_b71db7fdd99c43e78cb6f57b139ae786"
            ],
            "layout": "IPY_MODEL_05f40f18dd3640cf8531e5039d39b822"
          }
        },
        "a82c7476362f4ea3b21d9d81c1d68fe5": {
          "model_module": "@jupyter-widgets/base",
          "model_module_version": "1.2.0",
          "model_name": "LayoutModel",
          "state": {
            "_model_module": "@jupyter-widgets/base",
            "_model_module_version": "1.2.0",
            "_model_name": "LayoutModel",
            "_view_count": null,
            "_view_module": "@jupyter-widgets/base",
            "_view_module_version": "1.2.0",
            "_view_name": "LayoutView",
            "align_content": null,
            "align_items": null,
            "align_self": null,
            "border": null,
            "bottom": null,
            "display": null,
            "flex": null,
            "flex_flow": null,
            "grid_area": null,
            "grid_auto_columns": null,
            "grid_auto_flow": null,
            "grid_auto_rows": null,
            "grid_column": null,
            "grid_gap": null,
            "grid_row": null,
            "grid_template_areas": null,
            "grid_template_columns": null,
            "grid_template_rows": null,
            "height": null,
            "justify_content": null,
            "justify_items": null,
            "left": null,
            "margin": null,
            "max_height": null,
            "max_width": null,
            "min_height": null,
            "min_width": null,
            "object_fit": null,
            "object_position": null,
            "order": null,
            "overflow": null,
            "overflow_x": null,
            "overflow_y": null,
            "padding": null,
            "right": null,
            "top": null,
            "visibility": null,
            "width": null
          }
        },
        "ab46753c2c9643cdad563df8f8c202ca": {
          "model_module": "@jupyter-widgets/base",
          "model_module_version": "1.2.0",
          "model_name": "LayoutModel",
          "state": {
            "_model_module": "@jupyter-widgets/base",
            "_model_module_version": "1.2.0",
            "_model_name": "LayoutModel",
            "_view_count": null,
            "_view_module": "@jupyter-widgets/base",
            "_view_module_version": "1.2.0",
            "_view_name": "LayoutView",
            "align_content": null,
            "align_items": null,
            "align_self": null,
            "border": null,
            "bottom": null,
            "display": null,
            "flex": null,
            "flex_flow": null,
            "grid_area": null,
            "grid_auto_columns": null,
            "grid_auto_flow": null,
            "grid_auto_rows": null,
            "grid_column": null,
            "grid_gap": null,
            "grid_row": null,
            "grid_template_areas": null,
            "grid_template_columns": null,
            "grid_template_rows": null,
            "height": null,
            "justify_content": null,
            "justify_items": null,
            "left": null,
            "margin": null,
            "max_height": null,
            "max_width": null,
            "min_height": null,
            "min_width": null,
            "object_fit": null,
            "object_position": null,
            "order": null,
            "overflow": null,
            "overflow_x": null,
            "overflow_y": null,
            "padding": null,
            "right": null,
            "top": null,
            "visibility": null,
            "width": null
          }
        },
        "b71db7fdd99c43e78cb6f57b139ae786": {
          "model_module": "@jupyter-widgets/controls",
          "model_module_version": "1.5.0",
          "model_name": "HTMLModel",
          "state": {
            "_dom_classes": [],
            "_model_module": "@jupyter-widgets/controls",
            "_model_module_version": "1.5.0",
            "_model_name": "HTMLModel",
            "_view_count": null,
            "_view_module": "@jupyter-widgets/controls",
            "_view_module_version": "1.5.0",
            "_view_name": "HTMLView",
            "description": "",
            "description_tooltip": null,
            "layout": "IPY_MODEL_ab46753c2c9643cdad563df8f8c202ca",
            "placeholder": "​",
            "style": "IPY_MODEL_eb16a9c7a84d4f86b5d139c7f383f16a",
            "value": " 3/3 [00:07&lt;00:00,  2.26s/it]"
          }
        },
        "dde62dbe190940a496010d85ed1798f0": {
          "model_module": "@jupyter-widgets/base",
          "model_module_version": "1.2.0",
          "model_name": "LayoutModel",
          "state": {
            "_model_module": "@jupyter-widgets/base",
            "_model_module_version": "1.2.0",
            "_model_name": "LayoutModel",
            "_view_count": null,
            "_view_module": "@jupyter-widgets/base",
            "_view_module_version": "1.2.0",
            "_view_name": "LayoutView",
            "align_content": null,
            "align_items": null,
            "align_self": null,
            "border": null,
            "bottom": null,
            "display": null,
            "flex": null,
            "flex_flow": null,
            "grid_area": null,
            "grid_auto_columns": null,
            "grid_auto_flow": null,
            "grid_auto_rows": null,
            "grid_column": null,
            "grid_gap": null,
            "grid_row": null,
            "grid_template_areas": null,
            "grid_template_columns": null,
            "grid_template_rows": null,
            "height": null,
            "justify_content": null,
            "justify_items": null,
            "left": null,
            "margin": null,
            "max_height": null,
            "max_width": null,
            "min_height": null,
            "min_width": null,
            "object_fit": null,
            "object_position": null,
            "order": null,
            "overflow": null,
            "overflow_x": null,
            "overflow_y": null,
            "padding": null,
            "right": null,
            "top": null,
            "visibility": null,
            "width": null
          }
        },
        "eb16a9c7a84d4f86b5d139c7f383f16a": {
          "model_module": "@jupyter-widgets/controls",
          "model_module_version": "1.5.0",
          "model_name": "DescriptionStyleModel",
          "state": {
            "_model_module": "@jupyter-widgets/controls",
            "_model_module_version": "1.5.0",
            "_model_name": "DescriptionStyleModel",
            "_view_count": null,
            "_view_module": "@jupyter-widgets/base",
            "_view_module_version": "1.2.0",
            "_view_name": "StyleView",
            "description_width": ""
          }
        }
      }
    }
  },
  "nbformat": 4,
  "nbformat_minor": 0
}
